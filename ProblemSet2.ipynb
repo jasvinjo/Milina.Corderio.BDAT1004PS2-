{
 "cells": [
  {
   "cell_type": "markdown",
   "id": "c9dc1287-f58d-4e7c-ae9a-267751dcad42",
   "metadata": {},
   "source": [
    "### Question 1 "
   ]
  },
  {
   "cell_type": "code",
   "execution_count": 2,
   "id": "5dd0d520-ac80-4225-ab14-e66d2b962a00",
   "metadata": {},
   "outputs": [
    {
     "data": {
      "text/plain": [
       "6"
      ]
     },
     "execution_count": 2,
     "metadata": {},
     "output_type": "execute_result"
    }
   ],
   "source": [
    "# Initialize the global variable 'a' to 0\n",
    "a = 0\n",
    "\n",
    "# Define function 'b' which updates the global 'a'\n",
    "def b():\n",
    "    # Specify that 'a' within this function refers to the global variable\n",
    "    global a\n",
    "    # Call function 'c' with the current value of 'a' and assign the result back to 'a'\n",
    "    a = c(a)\n",
    "\n",
    "# Define function 'c' which takes an argument 'a'\n",
    "def c(a):\n",
    "    # Return the value of 'a' increased by 2\n",
    "    return a + 2\n",
    "\n",
    "# Execution sequence:\n",
    "\n",
    "# Call 'b()' the first time\n",
    "b()\n",
    "# 'b()' sets 'a' to c(0) => 0 + 2 = 2\n",
    "# Now, 'a' is 2\n",
    "\n",
    "# Call 'b()' the second time\n",
    "b()\n",
    "# 'b()' sets 'a' to c(2) => 2 + 2 = 4\n",
    "# Now, 'a' is 4\n",
    "\n",
    "# Call 'b()' the third time\n",
    "b()\n",
    "# 'b()' sets 'a' to c(4) => 4 + 2 = 6\n",
    "# Now, 'a' is 6\n",
    "\n",
    "# Evaluate the value of 'a'\n",
    "a\n",
    "# The final value of 'a' is 6\n"
   ]
  },
  {
   "cell_type": "markdown",
   "id": "704417b8-97af-4894-b4f0-a9f581746eec",
   "metadata": {},
   "source": [
    "\n",
    "### Question-2\n"
   ]
  },
  {
   "cell_type": "code",
   "execution_count": 1,
   "id": "f307eda2-40cf-4d24-8c7d-e03cca462d94",
   "metadata": {},
   "outputs": [],
   "source": [
    "def fileLength(filename):\n",
    "    try:\n",
    "        open_file = open(filename, 'r')\n",
    "        file_data = open_file.read()\n",
    "        length_of_file = len(file_data)\n",
    "        open_file.close()\n",
    "        return length_of_file\n",
    "    except:\n",
    "        return \"file \"+ filename + \" not found.\"\n",
    "    \n"
   ]
  },
  {
   "cell_type": "code",
   "execution_count": 26,
   "id": "21d68654-9836-4e62-97e5-c0c7410ac31c",
   "metadata": {},
   "outputs": [
    {
     "data": {
      "text/plain": [
       "396"
      ]
     },
     "execution_count": 26,
     "metadata": {},
     "output_type": "execute_result"
    }
   ],
   "source": [
    "fileLength(r'C:\\Users\\HP\\OneDrive\\Desktop\\w3c.txt')"
   ]
  },
  {
   "cell_type": "code",
   "execution_count": 3,
   "id": "f1c98f58-3ae2-460f-9afa-4576736ed557",
   "metadata": {},
   "outputs": [
    {
     "data": {
      "text/plain": [
       "'file idterm.py not found.'"
      ]
     },
     "execution_count": 3,
     "metadata": {},
     "output_type": "execute_result"
    }
   ],
   "source": [
    "fileLength(\"idterm.py\")"
   ]
  },
  {
   "cell_type": "markdown",
   "id": "31118210-d4d6-46d5-84a6-76894e99d173",
   "metadata": {},
   "source": [
    "### Question-3"
   ]
  },
  {
   "cell_type": "code",
   "execution_count": 7,
   "id": "024db987-a5ad-4b57-9c2a-b483e43d9915",
   "metadata": {},
   "outputs": [],
   "source": [
    "class Marsupial:\n",
    "    def __init__(self):\n",
    "        # Create an empty list to store items in the pouch\n",
    "        self.pouch_contents_list = []\n",
    "\n",
    "    def put_in_pouch(self, item):\n",
    "        # Add an item to the pouch contents list\n",
    "        self.pouch_contents_list.append(item)\n",
    "\n",
    "    def pouch_contents(self):\n",
    "        # Return the list of items currently in the pouch\n",
    "        return self.pouch_contents_list\n"
   ]
  },
  {
   "cell_type": "code",
   "execution_count": 8,
   "id": "919270b9-17b5-4282-bc86-2bd7e65833c5",
   "metadata": {},
   "outputs": [],
   "source": [
    "class Kangaroo(Marsupial):\n",
    "    def __init__(self, x, y):\n",
    "        # Initialize the base class (Marsupial)\n",
    "        super().__init__()\n",
    "        # Set the initial coordinates for the Kangaroo\n",
    "        self.x_coord = x\n",
    "        self.y_coord = y\n",
    "\n",
    "    def jump(self, dx, dy):\n",
    "        # Update the kangaroo's coordinates by adding dx and dy\n",
    "        self.x_coord += dx\n",
    "        self.y_coord += dy\n",
    "\n",
    "    def __str__(self):\n",
    "        # Return a string that describes the kangaroo's location\n",
    "        return f\"I am a Kangaroo located at coordinates ({self.x_coord},{self.y_coord})\"\n"
   ]
  },
  {
   "cell_type": "code",
   "execution_count": 9,
   "id": "f4ace730-649e-4b66-a264-1655377dea1a",
   "metadata": {},
   "outputs": [
    {
     "name": "stdout",
     "output_type": "stream",
     "text": [
      "['doll', 'firetruck', 'kitten']\n",
      "I am a Kangaroo located at coordinates (0,0)\n",
      "['doll', 'firetruck', 'kitten']\n",
      "I am a Kangaroo located at coordinates (3,0)\n"
     ]
    }
   ],
   "source": [
    "# Create an instance of Marsupial\n",
    "m = Marsupial()\n",
    "# Put items into the pouch\n",
    "m.put_in_pouch('doll')\n",
    "m.put_in_pouch('firetruck')\n",
    "m.put_in_pouch('kitten')\n",
    "# Display the contents of the pouch\n",
    "print(m.pouch_contents())  # Output: ['doll', 'firetruck', 'kitten']\n",
    "\n",
    "k = Kangaroo(0, 0)\n",
    "# Print the kangaroo's initial location\n",
    "print(k) \n",
    "# Put items into the kangaroo's pouch\n",
    "k.put_in_pouch('doll')\n",
    "k.put_in_pouch('firetruck')\n",
    "k.put_in_pouch('kitten')\n",
    "# Display the contents of the kangaroo's pouch\n",
    "print(k.pouch_contents())  # Output: ['doll', 'firetruck', 'kitten']\n",
    "# Make the kangaroo jump and update its coordinates\n",
    "k.jump(1, 0)\n",
    "k.jump(1, 0)\n",
    "k.jump(1, 0)\n",
    "print(k)  \n"
   ]
  },
  {
   "cell_type": "markdown",
   "id": "f2f80c23-6cc0-4ecc-932c-f71bc9ab58df",
   "metadata": {},
   "source": [
    "### Question-4"
   ]
  },
  {
   "cell_type": "code",
   "execution_count": 10,
   "id": "b334f8f3-1005-4366-b19a-7fdc811c8cfd",
   "metadata": {},
   "outputs": [
    {
     "name": "stdout",
     "output_type": "stream",
     "text": [
      "1\n",
      "10\n",
      "5\n",
      "16\n",
      "8\n",
      "4\n",
      "2\n",
      "1\n"
     ]
    }
   ],
   "source": [
    "def collatz(x):\n",
    "    # Print the current number in the sequence\n",
    "    print(x)\n",
    "    \n",
    "    # If the number is 1, we stop the recursion\n",
    "    if x == 1:\n",
    "        return\n",
    "    # If the number is even, divide it by 2 and call collatz again\n",
    "    elif x % 2 == 0:\n",
    "        collatz(x // 2)\n",
    "    # If the number is odd, multiply it by 3, add 1, and call collatz again\n",
    "    else:\n",
    "        collatz(3 * x + 1)\n",
    "\n",
    "collatz(1)\n",
    "collatz(10)\n"
   ]
  },
  {
   "cell_type": "markdown",
   "id": "2a8a5b9c-b23c-426b-9399-10dddaea4fa1",
   "metadata": {},
   "source": [
    "### Question-5"
   ]
  },
  {
   "cell_type": "code",
   "execution_count": 11,
   "id": "6d4ad66e-868f-49a7-9149-8753e0de3ba3",
   "metadata": {},
   "outputs": [
    {
     "name": "stdout",
     "output_type": "stream",
     "text": [
      "0\n",
      "1\n",
      "11\n",
      "1001\n"
     ]
    }
   ],
   "source": [
    "def binary(n):\n",
    "    # Base case: if n is 0, just return '0'\n",
    "    if n == 0:\n",
    "        return '0'\n",
    "    # Base case: if n is 1, just return '1'\n",
    "    elif n == 1:\n",
    "        return '1'\n",
    "    # Recursive case: return binary representation of n // 2 concatenated with n % 2\n",
    "    else:\n",
    "        return binary(n // 2) + str(n % 2)\n",
    "\n",
    "# Example usage\n",
    "print(binary(0))  # Output: 0\n",
    "print(binary(1))  # Output: 1\n",
    "print(binary(3))  # Output: 11\n",
    "print(binary(9))  # Output: 1001\n"
   ]
  },
  {
   "cell_type": "markdown",
   "id": "6f18e7e3-1ad1-4a51-93db-04a6a6655fd6",
   "metadata": {},
   "source": [
    "### Question-6"
   ]
  },
  {
   "cell_type": "code",
   "execution_count": 25,
   "id": "5edabf11-0540-475f-916d-b8e2173e0e17",
   "metadata": {},
   "outputs": [
    {
     "name": "stdout",
     "output_type": "stream",
     "text": [
      "W3C Mission\n",
      "\tPrinciples\n"
     ]
    }
   ],
   "source": [
    "from html.parser import HTMLParser\n",
    "\n",
    "class HeadingParser(HTMLParser):\n",
    "    flag = False\n",
    "    indetation_value = 0\n",
    "\n",
    "    def handle_starttag(self, tag, attrs):  \n",
    "        if tag == \"h1\":  \n",
    "            self.flag = True \n",
    "            self.indetation_value = 0\n",
    "\n",
    "        elif tag == \"h2\":\n",
    "            self.flag = True\n",
    "            self.indetation_value = 1\n",
    "        elif tag == \"h3\":\n",
    "            self.flag = True\n",
    "            self.indetation_value = 2\n",
    "        elif tag == \"h4\":\n",
    "            self.flag = True\n",
    "            self.indetation_value = 3\n",
    "        elif tag == \"h5\":\n",
    "            self.flag = True\n",
    "            self.indetation_value = 4\n",
    "        elif tag == \"h6\":\n",
    "            self.flag = True\n",
    "            self.indetation_value = 5\n",
    "  \n",
    "\n",
    "    def handle_data(self, data):  \n",
    "        if self.flag:\n",
    "            print (self.indetation_value*\"\\t\"+data)\n",
    "\n",
    "    def handle_endtag(self, tag):  \n",
    "        if tag == \"h1\":  \n",
    "            self.flag = False\n",
    "        elif tag == \"h2\":\n",
    "            self.flag = False\n",
    "        elif tag == \"h3\":\n",
    "            self.flag = False\n",
    "        elif tag == \"h4\":\n",
    "            self.flag = False\n",
    "        elif tag == \"h5\":\n",
    "            self.flag = False\n",
    "        elif tag == \"h6\":\n",
    "            self.flag = False\n",
    "\n",
    "infile = open(r'C:\\Users\\HP\\OneDrive\\Desktop\\w3c.txt')\n",
    "content = infile.read()\n",
    "infile.close()\n",
    "hp = HeadingParser()\n",
    "hp.feed(content)\n",
    " "
   ]
  },
  {
   "cell_type": "markdown",
   "id": "19283286-ddcc-4925-b069-6b16056beb8f",
   "metadata": {},
   "source": [
    "### Question-7"
   ]
  },
  {
   "cell_type": "code",
   "execution_count": 16,
   "id": "03001092-fda4-4437-a0b5-6a5e81f0f623",
   "metadata": {},
   "outputs": [
    {
     "name": "stdout",
     "output_type": "stream",
     "text": [
      "http://reed.cs.depaul.edu/lperkovic/csc242/test1.html\n",
      "Error fetching http://reed.cs.depaul.edu/lperkovic/csc242/test1.html: HTTP Error 404: \n"
     ]
    }
   ],
   "source": [
    "import urllib.request\n",
    "import re\n",
    "\n",
    "def webdir(url, depth, indent):\n",
    "    # Print the URL with the current indentation\n",
    "    print(' ' * indent + url)\n",
    "    \n",
    "    # Base case: if depth is 0, return without further recursion\n",
    "    if depth == 0:\n",
    "        return\n",
    "    \n",
    "    try:\n",
    "        # Fetch the HTML content of the current URL\n",
    "        with urllib.request.urlopen(url) as response:\n",
    "            html_content = response.read().decode('utf-8')\n",
    "        \n",
    "        # Regex pattern to find all anchor tags with href attribute\n",
    "        link_pattern = re.compile(r'<a\\s+(?:[^>]*?\\s+)?href=\"([^\"]*)\"')\n",
    "        links = link_pattern.findall(html_content)\n",
    "        \n",
    "        # Process each link found\n",
    "        for link in links:\n",
    "            absolute_url = urllib.parse.urljoin(url, link)\n",
    "            webdir(absolute_url, depth - 1, indent + 4)\n",
    "    \n",
    "    except Exception as e:\n",
    "        print(f\"Error fetching {url}: {e}\")\n",
    "\n",
    "# Example usage\n",
    "webdir('http://reed.cs.depaul.edu/lperkovic/csc242/test1.html', 2, 0)\n"
   ]
  },
  {
   "cell_type": "markdown",
   "id": "9a9f56cc-406c-482d-9178-0df2502cce47",
   "metadata": {},
   "source": [
    "### Question-8"
   ]
  },
  {
   "cell_type": "markdown",
   "id": "694d3b6e-1905-4119-9a79-3903f29ca2eb",
   "metadata": {},
   "source": [
    "### Question-9"
   ]
  },
  {
   "cell_type": "code",
   "execution_count": 21,
   "id": "10bde48e-320b-440c-ac5c-e8f6bc5faae9",
   "metadata": {},
   "outputs": [
    {
     "name": "stdout",
     "output_type": "stream",
     "text": [
      "['THE', 'QUICK', 'BROWN', 'FOX', 'JUMPS', 'OVER', 'THE', 'LAZY', 'DOG']\n",
      "['the', 'quick', 'brown', 'fox', 'jumps', 'over', 'the', 'lazy', 'dog']\n",
      "[3, 5, 5, 3, 5, 4, 3, 4, 3]\n",
      "[['THE', 'the', 3], ['QUICK', 'quick', 5], ['BROWN', 'brown', 5], ['FOX', 'fox', 3], ['JUMPS', 'jumps', 5], ['OVER', 'over', 4], ['THE', 'the', 3], ['LAZY', 'lazy', 4], ['DOG', 'dog', 3]]\n",
      "['quick', 'brown', 'jumps', 'over', 'lazy']\n"
     ]
    }
   ],
   "source": [
    "# Define the words list\n",
    "words = ['The', 'quick', 'brown', 'fox', 'jumps', 'over', 'the', 'lazy', 'dog']\n",
    "\n",
    "# a) Convert all words to uppercase\n",
    "words_upper = [word.upper() for word in words]\n",
    "print(words_upper)\n",
    "# Output: ['THE', 'QUICK', 'BROWN', 'FOX', 'JUMPS', 'OVER', 'THE', 'LAZY', 'DOG']\n",
    "\n",
    "# b) Convert all words to lowercase\n",
    "words_lower = [word.lower() for word in words]\n",
    "print(words_lower)\n",
    "# Output: ['the', 'quick', 'brown', 'fox', 'jumps', 'over', 'the', 'lazy', 'dog']\n",
    "\n",
    "# c) Get the lengths of all words\n",
    "word_lengths = [len(word) for word in words]\n",
    "print(word_lengths)\n",
    "# Output: [3, 5, 5, 3, 5, 4, 3, 4, 3]\n",
    "\n",
    "# d) Create a list of lists containing word in uppercase, lowercase, and its length\n",
    "word_details = [[word.upper(), word.lower(), len(word)] for word in words]\n",
    "print(word_details)\n",
    "# Output: [['THE', 'the', 3], ['QUICK', 'quick', 5], ['BROWN', 'brown', 5], ['FOX', 'fox', 3], ['JUMPS', 'jumps', 5], ['OVER', 'over', 4], ['THE', 'the', 3], ['LAZY', 'lazy', 4], ['DOG', 'dog', 3]]\n",
    "\n",
    "# e) Filter words with 4 or more characters\n",
    "words_4_or_more = [word for word in words if len(word) >= 4]\n",
    "print(words_4_or_more)\n",
    "# Output: ['quick', 'brown', 'jumps', 'over', 'lazy']\n"
   ]
  },
  {
   "cell_type": "code",
   "execution_count": null,
   "id": "5d6ca79d-5108-4cc0-b9b4-ef899ea46900",
   "metadata": {},
   "outputs": [],
   "source": []
  }
 ],
 "metadata": {
  "kernelspec": {
   "display_name": "Python 3 (ipykernel)",
   "language": "python",
   "name": "python3"
  },
  "language_info": {
   "codemirror_mode": {
    "name": "ipython",
    "version": 3
   },
   "file_extension": ".py",
   "mimetype": "text/x-python",
   "name": "python",
   "nbconvert_exporter": "python",
   "pygments_lexer": "ipython3",
   "version": "3.11.7"
  }
 },
 "nbformat": 4,
 "nbformat_minor": 5
}
